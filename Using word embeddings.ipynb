{
 "cells": [
  {
   "cell_type": "code",
   "execution_count": 1,
   "metadata": {},
   "outputs": [
    {
     "data": {
      "text/plain": [
       "'2.4.3'"
      ]
     },
     "execution_count": 1,
     "metadata": {},
     "output_type": "execute_result"
    }
   ],
   "source": [
    "import keras\n",
    "keras.__version__\n"
   ]
  },
  {
   "cell_type": "markdown",
   "metadata": {},
   "source": [
    "#### learning word embeddings with `EMBEDDING` layer"
   ]
  },
  {
   "cell_type": "code",
   "execution_count": 2,
   "metadata": {},
   "outputs": [],
   "source": [
    "from keras.layers import Embedding\n",
    "\n",
    "# The Embedding layer takes at least two arguments:\n",
    "# the number of possible tokens, here 1000 (1 + maximum word index),\n",
    "# and the dimensionality of the embeddings, here 64.\n",
    "embedding_layer = Embedding(1000, 64)\n",
    "\n",
    "# good explanation: \n",
    "# https://stats.stackexchange.com/questions/270546/how-does-keras-embedding-layer-work"
   ]
  },
  {
   "cell_type": "code",
   "execution_count": 7,
   "metadata": {},
   "outputs": [],
   "source": [
    "from keras.datasets import imdb\n",
    "from keras import preprocessing\n",
    "\n",
    "# Number of words to consider as features\n",
    "max_features = 10000\n",
    "# Cut texts after this number of words \n",
    "# (among top max_features most common words)\n",
    "maxlen = 20\n",
    "\n",
    "# Load the data as lists of integers.\n",
    "(x_train, y_train), (x_test, y_test) = imdb.load_data(num_words=max_features)\n",
    "\n",
    "# This turns our lists of integers\n",
    "# into a 2D integer tensor of shape `(samples, maxlen)`\n",
    "x_train = preprocessing.sequence.pad_sequences(x_train, maxlen=maxlen)\n",
    "x_test = preprocessing.sequence.pad_sequences(x_test, maxlen=maxlen)"
   ]
  },
  {
   "cell_type": "code",
   "execution_count": 10,
   "metadata": {},
   "outputs": [
    {
     "data": {
      "text/plain": [
       "array([[  65,   16,   38, ...,   19,  178,   32],\n",
       "       [  23,    4, 1690, ...,   16,  145,   95],\n",
       "       [1352,   13,  191, ...,    7,  129,  113],\n",
       "       ...,\n",
       "       [  11, 1818, 7561, ...,    4, 3586,    2],\n",
       "       [  92,  401,  728, ...,   12,    9,   23],\n",
       "       [ 764,   40,    4, ...,  204,  131,    9]], dtype=int32)"
      ]
     },
     "execution_count": 10,
     "metadata": {},
     "output_type": "execute_result"
    }
   ],
   "source": [
    "x_train"
   ]
  },
  {
   "cell_type": "code",
   "execution_count": 12,
   "metadata": {},
   "outputs": [],
   "source": [
    "from keras.models import Sequential\n",
    "from keras.layers import Flatten, Dense\n",
    "\n",
    "model = Sequential()\n",
    "# We specify the maximum input length to our Embedding layer\n",
    "# so we can later flatten the embedded inputs\n",
    "model.add(Embedding(10000, 8, input_length=maxlen))\n",
    "# After the Embedding layer, \n",
    "# our activations have shape `(samples, maxlen, 8)`.\n",
    "\n",
    "\n",
    "# 8 = output_dimension of the new vector for each word for which embedding layer will be trained\n",
    "# max_length = max size of each input sentence\n",
    "\n",
    "# so once the embeddinglayer is trained it creates an output of output * input. Then after fitting the model with this \n",
    "# embedding layer, the final shape of the weight matrix will be \n",
    "# => number of unique words in the vocab * size of word vector\n",
    "\n",
    "# https://medium.com/analytics-vidhya/understanding-embedding-layer-in-keras-bbe3ff1327ce"
   ]
  },
  {
   "cell_type": "code",
   "execution_count": 13,
   "metadata": {},
   "outputs": [
    {
     "name": "stdout",
     "output_type": "stream",
     "text": [
      "Model: \"sequential_1\"\n",
      "_________________________________________________________________\n",
      "Layer (type)                 Output Shape              Param #   \n",
      "=================================================================\n",
      "embedding_2 (Embedding)      (None, 20, 8)             80000     \n",
      "_________________________________________________________________\n",
      "flatten (Flatten)            (None, 160)               0         \n",
      "_________________________________________________________________\n",
      "dense (Dense)                (None, 1)                 161       \n",
      "=================================================================\n",
      "Total params: 80,161\n",
      "Trainable params: 80,161\n",
      "Non-trainable params: 0\n",
      "_________________________________________________________________\n",
      "Epoch 1/10\n",
      "625/625 [==============================] - 1s 810us/step - loss: 0.6704 - acc: 0.6208 - val_loss: 0.6219 - val_acc: 0.6998\n",
      "Epoch 2/10\n",
      "625/625 [==============================] - 0s 653us/step - loss: 0.5451 - acc: 0.7501 - val_loss: 0.5266 - val_acc: 0.7304\n",
      "Epoch 3/10\n",
      "625/625 [==============================] - 0s 637us/step - loss: 0.4622 - acc: 0.7875 - val_loss: 0.4992 - val_acc: 0.7462\n",
      "Epoch 4/10\n",
      "625/625 [==============================] - 0s 645us/step - loss: 0.4213 - acc: 0.8089 - val_loss: 0.4912 - val_acc: 0.7540\n",
      "Epoch 5/10\n",
      "625/625 [==============================] - 0s 646us/step - loss: 0.3944 - acc: 0.8248 - val_loss: 0.4921 - val_acc: 0.7550\n",
      "Epoch 6/10\n",
      "625/625 [==============================] - 0s 649us/step - loss: 0.3717 - acc: 0.8382 - val_loss: 0.4952 - val_acc: 0.7582\n",
      "Epoch 7/10\n",
      "625/625 [==============================] - 0s 688us/step - loss: 0.3521 - acc: 0.8479 - val_loss: 0.5021 - val_acc: 0.7552\n",
      "Epoch 8/10\n",
      "625/625 [==============================] - 0s 647us/step - loss: 0.3340 - acc: 0.8595 - val_loss: 0.5102 - val_acc: 0.7552\n",
      "Epoch 9/10\n",
      "625/625 [==============================] - 0s 651us/step - loss: 0.3170 - acc: 0.8706 - val_loss: 0.5184 - val_acc: 0.7522\n",
      "Epoch 10/10\n",
      "625/625 [==============================] - 0s 654us/step - loss: 0.3009 - acc: 0.8767 - val_loss: 0.5271 - val_acc: 0.7486\n"
     ]
    }
   ],
   "source": [
    "# We flatten the 3D tensor of embeddings \n",
    "# into a 2D tensor of shape `(samples, maxlen * 8)`\n",
    "model.add(Flatten())\n",
    "\n",
    "# We add the classifier on top\n",
    "model.add(Dense(1, activation='sigmoid'))\n",
    "model.compile(optimizer='rmsprop', loss='binary_crossentropy', metrics=['acc'])\n",
    "model.summary()\n",
    "\n",
    "history = model.fit(x_train, y_train,\n",
    "                    epochs=10,\n",
    "                    batch_size=32,\n",
    "                    validation_split=0.2)"
   ]
  },
  {
   "cell_type": "code",
   "execution_count": 20,
   "metadata": {},
   "outputs": [
    {
     "name": "stdout",
     "output_type": "stream",
     "text": [
      "(10000, 8)\n"
     ]
    }
   ],
   "source": [
    "# Once the training is completed, embedding layer has learnt the weights which are \n",
    "# nothing but the vector representations of each word. Lets check the shape of the weight matrix.\n",
    "\n",
    "print(model.layers[0].get_weights()[0].shape)\n",
    "\n",
    "# As we can see from the result of this statement, the shape of the wt matrix of the trained embedding layer is 10000 * 8\n",
    "# which is consistent with -> 10000 unique words which we fed the model AND 8 being the length of each word vector embedding "
   ]
  },
  {
   "cell_type": "markdown",
   "metadata": {},
   "source": [
    "### Using pre-trained word embeddings\n"
   ]
  },
  {
   "cell_type": "code",
   "execution_count": null,
   "metadata": {},
   "outputs": [],
   "source": []
  }
 ],
 "metadata": {
  "kernelspec": {
   "display_name": "tensorflow_keras",
   "language": "python",
   "name": "tensorflow_keras"
  },
  "language_info": {
   "codemirror_mode": {
    "name": "ipython",
    "version": 3
   },
   "file_extension": ".py",
   "mimetype": "text/x-python",
   "name": "python",
   "nbconvert_exporter": "python",
   "pygments_lexer": "ipython3",
   "version": "3.7.7"
  }
 },
 "nbformat": 4,
 "nbformat_minor": 4
}
