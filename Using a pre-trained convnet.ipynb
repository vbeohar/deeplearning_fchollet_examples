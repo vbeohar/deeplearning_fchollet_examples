{
 "cells": [
  {
   "cell_type": "code",
   "execution_count": 1,
   "metadata": {},
   "outputs": [],
   "source": [
    "from keras.applications import VGG16\n",
    "\n",
    "conv_base = VGG16(weights='imagenet',\n",
    "                  include_top=False,\n",
    "                  input_shape=(150, 150, 3))"
   ]
  },
  {
   "cell_type": "code",
   "execution_count": 2,
   "metadata": {},
   "outputs": [
    {
     "name": "stdout",
     "output_type": "stream",
     "text": [
      "Model: \"vgg16\"\n",
      "_________________________________________________________________\n",
      "Layer (type)                 Output Shape              Param #   \n",
      "=================================================================\n",
      "input_1 (InputLayer)         [(None, 150, 150, 3)]     0         \n",
      "_________________________________________________________________\n",
      "block1_conv1 (Conv2D)        (None, 150, 150, 64)      1792      \n",
      "_________________________________________________________________\n",
      "block1_conv2 (Conv2D)        (None, 150, 150, 64)      36928     \n",
      "_________________________________________________________________\n",
      "block1_pool (MaxPooling2D)   (None, 75, 75, 64)        0         \n",
      "_________________________________________________________________\n",
      "block2_conv1 (Conv2D)        (None, 75, 75, 128)       73856     \n",
      "_________________________________________________________________\n",
      "block2_conv2 (Conv2D)        (None, 75, 75, 128)       147584    \n",
      "_________________________________________________________________\n",
      "block2_pool (MaxPooling2D)   (None, 37, 37, 128)       0         \n",
      "_________________________________________________________________\n",
      "block3_conv1 (Conv2D)        (None, 37, 37, 256)       295168    \n",
      "_________________________________________________________________\n",
      "block3_conv2 (Conv2D)        (None, 37, 37, 256)       590080    \n",
      "_________________________________________________________________\n",
      "block3_conv3 (Conv2D)        (None, 37, 37, 256)       590080    \n",
      "_________________________________________________________________\n",
      "block3_pool (MaxPooling2D)   (None, 18, 18, 256)       0         \n",
      "_________________________________________________________________\n",
      "block4_conv1 (Conv2D)        (None, 18, 18, 512)       1180160   \n",
      "_________________________________________________________________\n",
      "block4_conv2 (Conv2D)        (None, 18, 18, 512)       2359808   \n",
      "_________________________________________________________________\n",
      "block4_conv3 (Conv2D)        (None, 18, 18, 512)       2359808   \n",
      "_________________________________________________________________\n",
      "block4_pool (MaxPooling2D)   (None, 9, 9, 512)         0         \n",
      "_________________________________________________________________\n",
      "block5_conv1 (Conv2D)        (None, 9, 9, 512)         2359808   \n",
      "_________________________________________________________________\n",
      "block5_conv2 (Conv2D)        (None, 9, 9, 512)         2359808   \n",
      "_________________________________________________________________\n",
      "block5_conv3 (Conv2D)        (None, 9, 9, 512)         2359808   \n",
      "_________________________________________________________________\n",
      "block5_pool (MaxPooling2D)   (None, 4, 4, 512)         0         \n",
      "=================================================================\n",
      "Total params: 14,714,688\n",
      "Trainable params: 14,714,688\n",
      "Non-trainable params: 0\n",
      "_________________________________________________________________\n"
     ]
    }
   ],
   "source": [
    "conv_base.summary()"
   ]
  },
  {
   "cell_type": "code",
   "execution_count": 3,
   "metadata": {},
   "outputs": [
    {
     "name": "stdout",
     "output_type": "stream",
     "text": [
      "Found 2000 images belonging to 2 classes.\n",
      "Found 1000 images belonging to 2 classes.\n",
      "Found 1000 images belonging to 2 classes.\n"
     ]
    }
   ],
   "source": [
    "import os\n",
    "import numpy as np\n",
    "from keras.preprocessing.image import ImageDataGenerator\n",
    "\n",
    "base_dir = '/Users/Vaibhav_Beohar/Documents/VB_Mck_Docs/Other Trainings/deeplearning_fchollet_examples/data_samples'\n",
    "\n",
    "train_dir = os.path.join(base_dir, 'train')\n",
    "validation_dir = os.path.join(base_dir, 'validation')\n",
    "test_dir = os.path.join(base_dir, 'test')\n",
    "\n",
    "datagen = ImageDataGenerator(rescale=1./255)\n",
    "batch_size = 20\n",
    "\n",
    "def extract_features(directory, sample_count):\n",
    "    features = np.zeros(shape=(sample_count, 4, 4, 512))\n",
    "    labels = np.zeros(shape=(sample_count))\n",
    "    generator = datagen.flow_from_directory(\n",
    "        directory,\n",
    "        target_size=(150, 150),\n",
    "        batch_size=batch_size,\n",
    "        class_mode='binary')\n",
    "    i = 0\n",
    "    for inputs_batch, labels_batch in generator:\n",
    "        features_batch = conv_base.predict(inputs_batch)\n",
    "        features[i * batch_size : (i + 1) * batch_size] = features_batch\n",
    "        labels[i * batch_size : (i + 1) * batch_size] = labels_batch\n",
    "        i += 1\n",
    "        if i * batch_size >= sample_count:\n",
    "            # Note that since generators yield data indefinitely in a loop,\n",
    "            # we must `break` after every image has been seen once.\n",
    "            break\n",
    "    return features, labels\n",
    "\n",
    "train_features, train_labels = extract_features(train_dir, 2000)\n",
    "validation_features, validation_labels = extract_features(validation_dir, 1000)\n",
    "test_features, test_labels = extract_features(test_dir, 1000)"
   ]
  },
  {
   "cell_type": "code",
   "execution_count": 4,
   "metadata": {},
   "outputs": [],
   "source": [
    "train_features = np.reshape(train_features, (2000, 4 * 4 * 512))\n",
    "validation_features = np.reshape(validation_features, (1000, 4 * 4 * 512))\n",
    "test_features = np.reshape(test_features, (1000, 4 * 4 * 512))"
   ]
  },
  {
   "cell_type": "code",
   "execution_count": 5,
   "metadata": {},
   "outputs": [
    {
     "name": "stdout",
     "output_type": "stream",
     "text": [
      "Epoch 1/30\n",
      "100/100 [==============================] - 2s 16ms/step - loss: 0.6092 - acc: 0.6795 - val_loss: 0.4389 - val_acc: 0.8390\n",
      "Epoch 2/30\n",
      "100/100 [==============================] - 2s 15ms/step - loss: 0.4405 - acc: 0.7925 - val_loss: 0.3586 - val_acc: 0.8570\n",
      "Epoch 3/30\n",
      "100/100 [==============================] - 2s 16ms/step - loss: 0.3626 - acc: 0.8470 - val_loss: 0.3239 - val_acc: 0.8790\n",
      "Epoch 4/30\n",
      "100/100 [==============================] - 2s 15ms/step - loss: 0.3162 - acc: 0.8600 - val_loss: 0.3034 - val_acc: 0.8850\n",
      "Epoch 5/30\n",
      "100/100 [==============================] - 1s 15ms/step - loss: 0.2863 - acc: 0.8890 - val_loss: 0.2767 - val_acc: 0.8990\n",
      "Epoch 6/30\n",
      "100/100 [==============================] - 1s 14ms/step - loss: 0.2573 - acc: 0.9020 - val_loss: 0.2662 - val_acc: 0.9030\n",
      "Epoch 7/30\n",
      "100/100 [==============================] - 1s 15ms/step - loss: 0.2426 - acc: 0.9065 - val_loss: 0.2593 - val_acc: 0.8970\n",
      "Epoch 8/30\n",
      "100/100 [==============================] - 2s 16ms/step - loss: 0.2314 - acc: 0.9130 - val_loss: 0.2517 - val_acc: 0.9040\n",
      "Epoch 9/30\n",
      "100/100 [==============================] - 2s 16ms/step - loss: 0.2156 - acc: 0.9215 - val_loss: 0.2522 - val_acc: 0.9020\n",
      "Epoch 10/30\n",
      "100/100 [==============================] - 2s 17ms/step - loss: 0.1999 - acc: 0.9270 - val_loss: 0.2447 - val_acc: 0.9060\n",
      "Epoch 11/30\n",
      "100/100 [==============================] - 2s 17ms/step - loss: 0.1991 - acc: 0.9260 - val_loss: 0.2505 - val_acc: 0.8970\n",
      "Epoch 12/30\n",
      "100/100 [==============================] - 2s 15ms/step - loss: 0.1873 - acc: 0.9350 - val_loss: 0.2410 - val_acc: 0.9000\n",
      "Epoch 13/30\n",
      "100/100 [==============================] - 2s 16ms/step - loss: 0.1788 - acc: 0.9360 - val_loss: 0.2391 - val_acc: 0.9030\n",
      "Epoch 14/30\n",
      "100/100 [==============================] - 2s 18ms/step - loss: 0.1612 - acc: 0.9435 - val_loss: 0.2424 - val_acc: 0.9020\n",
      "Epoch 15/30\n",
      "100/100 [==============================] - 2s 18ms/step - loss: 0.1610 - acc: 0.9445 - val_loss: 0.2351 - val_acc: 0.9030\n",
      "Epoch 16/30\n",
      "100/100 [==============================] - 2s 17ms/step - loss: 0.1574 - acc: 0.9450 - val_loss: 0.2516 - val_acc: 0.8910\n",
      "Epoch 17/30\n",
      "100/100 [==============================] - 2s 19ms/step - loss: 0.1492 - acc: 0.9485 - val_loss: 0.2366 - val_acc: 0.9080\n",
      "Epoch 18/30\n",
      "100/100 [==============================] - 2s 18ms/step - loss: 0.1446 - acc: 0.9480 - val_loss: 0.2377 - val_acc: 0.9080\n",
      "Epoch 19/30\n",
      "100/100 [==============================] - 2s 16ms/step - loss: 0.1359 - acc: 0.9535 - val_loss: 0.2356 - val_acc: 0.9060\n",
      "Epoch 20/30\n",
      "100/100 [==============================] - 1s 14ms/step - loss: 0.1285 - acc: 0.9570 - val_loss: 0.2346 - val_acc: 0.9060\n",
      "Epoch 21/30\n",
      "100/100 [==============================] - 1s 14ms/step - loss: 0.1275 - acc: 0.9535 - val_loss: 0.2343 - val_acc: 0.9040\n",
      "Epoch 22/30\n",
      "100/100 [==============================] - 1s 14ms/step - loss: 0.1184 - acc: 0.9620 - val_loss: 0.2474 - val_acc: 0.8960\n",
      "Epoch 23/30\n",
      "100/100 [==============================] - 1s 14ms/step - loss: 0.1177 - acc: 0.9585 - val_loss: 0.2349 - val_acc: 0.9030\n",
      "Epoch 24/30\n",
      "100/100 [==============================] - 1s 14ms/step - loss: 0.1149 - acc: 0.9595 - val_loss: 0.2458 - val_acc: 0.9000\n",
      "Epoch 25/30\n",
      "100/100 [==============================] - 1s 14ms/step - loss: 0.1075 - acc: 0.9660 - val_loss: 0.2358 - val_acc: 0.9020\n",
      "Epoch 26/30\n",
      "100/100 [==============================] - 1s 14ms/step - loss: 0.1048 - acc: 0.9640 - val_loss: 0.2444 - val_acc: 0.9010\n",
      "Epoch 27/30\n",
      "100/100 [==============================] - 1s 14ms/step - loss: 0.0991 - acc: 0.9680 - val_loss: 0.2401 - val_acc: 0.8990\n",
      "Epoch 28/30\n",
      "100/100 [==============================] - 1s 14ms/step - loss: 0.0947 - acc: 0.9710 - val_loss: 0.2405 - val_acc: 0.8970\n",
      "Epoch 29/30\n",
      "100/100 [==============================] - 1s 14ms/step - loss: 0.0939 - acc: 0.9715 - val_loss: 0.2497 - val_acc: 0.8960\n",
      "Epoch 30/30\n",
      "100/100 [==============================] - 1s 14ms/step - loss: 0.0893 - acc: 0.9710 - val_loss: 0.2506 - val_acc: 0.8970\n"
     ]
    }
   ],
   "source": [
    "from keras import models\n",
    "from keras import layers\n",
    "from keras import optimizers\n",
    "\n",
    "model = models.Sequential()\n",
    "model.add(layers.Dense(256, activation='relu', input_dim=4 * 4 * 512))\n",
    "model.add(layers.Dropout(0.5))\n",
    "model.add(layers.Dense(1, activation='sigmoid'))\n",
    "\n",
    "model.compile(optimizer=optimizers.RMSprop(lr=2e-5),\n",
    "              loss='binary_crossentropy',\n",
    "              metrics=['acc'])\n",
    "\n",
    "history = model.fit(train_features, train_labels,\n",
    "                    epochs=30,\n",
    "                    batch_size=20,\n",
    "                    validation_data=(validation_features, validation_labels))"
   ]
  },
  {
   "cell_type": "code",
   "execution_count": 6,
   "metadata": {},
   "outputs": [
    {
     "data": {
      "image/png": "[encoded data removed]",
      "text/plain": [
       "<Figure size 432x288 with 1 Axes>"
      ]
     },
     "metadata": {
      "needs_background": "light"
     },
     "output_type": "display_data"
    },
    {
     "data": {
      "image/png": "[encoded data removed]",
      "text/plain": [
       "<Figure size 432x288 with 1 Axes>"
      ]
     },
     "metadata": {
      "needs_background": "light"
     },
     "output_type": "display_data"
    }
   ],
   "source": [
    "import matplotlib.pyplot as plt\n",
    "\n",
    "acc = history.history['acc']\n",
    "val_acc = history.history['val_acc']\n",
    "loss = history.history['loss']\n",
    "val_loss = history.history['val_loss']\n",
    "\n",
    "epochs = range(len(acc))\n",
    "\n",
    "plt.plot(epochs, acc, 'bo', label='Training acc')\n",
    "plt.plot(epochs, val_acc, 'b', label='Validation acc')\n",
    "plt.title('Training and validation accuracy')\n",
    "plt.legend()\n",
    "\n",
    "plt.figure()\n",
    "\n",
    "plt.plot(epochs, loss, 'bo', label='Training loss')\n",
    "plt.plot(epochs, val_loss, 'b', label='Validation loss')\n",
    "plt.title('Training and validation loss')\n",
    "plt.legend()\n",
    "\n",
    "plt.show()"
   ]
  },
  {
   "cell_type": "markdown",
   "metadata": {},
   "source": [
    "#### 2nd Technique: \n",
    "Extending the model we have (conv_base) by adding Dense layers on top, and running the whole thing end-to-end on the input data. This allows us to use data augmentation, because every input image is going through the convolutional base every time it is seen by the model. However, for this same reason, this technique is far more expensive than the first one.\n"
   ]
  },
  {
   "cell_type": "code",
   "execution_count": 7,
   "metadata": {},
   "outputs": [],
   "source": [
    "from keras import models\n",
    "from keras import layers\n",
    "\n",
    "model = models.Sequential()\n",
    "model.add(conv_base)\n",
    "model.add(layers.Flatten())\n",
    "model.add(layers.Dense(256, activation='relu'))\n",
    "model.add(layers.Dense(1, activation='sigmoid'))"
   ]
  },
  {
   "cell_type": "code",
   "execution_count": 8,
   "metadata": {},
   "outputs": [
    {
     "name": "stdout",
     "output_type": "stream",
     "text": [
      "Model: \"sequential_1\"\n",
      "_________________________________________________________________\n",
      "Layer (type)                 Output Shape              Param #   \n",
      "=================================================================\n",
      "vgg16 (Functional)           (None, 4, 4, 512)         14714688  \n",
      "_________________________________________________________________\n",
      "flatten (Flatten)            (None, 8192)              0         \n",
      "_________________________________________________________________\n",
      "dense_2 (Dense)              (None, 256)               2097408   \n",
      "_________________________________________________________________\n",
      "dense_3 (Dense)              (None, 1)                 257       \n",
      "=================================================================\n",
      "Total params: 16,812,353\n",
      "Trainable params: 16,812,353\n",
      "Non-trainable params: 0\n",
      "_________________________________________________________________\n"
     ]
    }
   ],
   "source": [
    "model.summary()\n"
   ]
  },
  {
   "cell_type": "code",
   "execution_count": 9,
   "metadata": {},
   "outputs": [
    {
     "name": "stdout",
     "output_type": "stream",
     "text": [
      "This is the number of trainable weights before freezing the conv base: 30\n"
     ]
    }
   ],
   "source": [
    "print('This is the number of trainable weights '\n",
    "      'before freezing the conv base:', len(model.trainable_weights))"
   ]
  },
  {
   "cell_type": "code",
   "execution_count": 10,
   "metadata": {},
   "outputs": [],
   "source": [
    "conv_base.trainable = False\n"
   ]
  },
  {
   "cell_type": "code",
   "execution_count": 11,
   "metadata": {},
   "outputs": [
    {
     "name": "stdout",
     "output_type": "stream",
     "text": [
      "This is the number of trainable weights after freezing the conv base: 4\n"
     ]
    }
   ],
   "source": [
    "print('This is the number of trainable weights '\n",
    "      'after freezing the conv base:', len(model.trainable_weights))"
   ]
  },
  {
   "cell_type": "code",
   "execution_count": 12,
   "metadata": {},
   "outputs": [
    {
     "name": "stdout",
     "output_type": "stream",
     "text": [
      "Found 2000 images belonging to 2 classes.\n",
      "Found 1000 images belonging to 2 classes.\n",
      "WARNING:tensorflow:From <ipython-input-12-0909a1dd9664>:41: Model.fit_generator (from tensorflow.python.keras.engine.training) is deprecated and will be removed in a future version.\n",
      "Instructions for updating:\n",
      "Please use Model.fit, which supports generators.\n",
      "Epoch 1/30\n",
      "100/100 - 88s - loss: 0.5979 - acc: 0.6915 - val_loss: 0.4680 - val_acc: 0.8220\n",
      "Epoch 2/30\n",
      "100/100 - 83s - loss: 0.4883 - acc: 0.7840 - val_loss: 0.3795 - val_acc: 0.8520\n",
      "Epoch 3/30\n",
      "100/100 - 88s - loss: 0.4400 - acc: 0.8070 - val_loss: 0.3387 - val_acc: 0.8690\n",
      "Epoch 4/30\n",
      "100/100 - 93s - loss: 0.4099 - acc: 0.8195 - val_loss: 0.3116 - val_acc: 0.8770\n",
      "Epoch 5/30\n",
      "100/100 - 101s - loss: 0.3831 - acc: 0.8220 - val_loss: 0.2941 - val_acc: 0.8860\n",
      "Epoch 6/30\n",
      "100/100 - 102s - loss: 0.3644 - acc: 0.8425 - val_loss: 0.2820 - val_acc: 0.8840\n",
      "Epoch 7/30\n",
      "100/100 - 97s - loss: 0.3570 - acc: 0.8500 - val_loss: 0.2727 - val_acc: 0.8840\n",
      "Epoch 8/30\n",
      "100/100 - 105s - loss: 0.3468 - acc: 0.8435 - val_loss: 0.2684 - val_acc: 0.8910\n",
      "Epoch 9/30\n",
      "100/100 - 105s - loss: 0.3436 - acc: 0.8525 - val_loss: 0.2667 - val_acc: 0.8900\n",
      "Epoch 10/30\n",
      "100/100 - 104s - loss: 0.3301 - acc: 0.8545 - val_loss: 0.2631 - val_acc: 0.8850\n",
      "Epoch 11/30\n",
      "100/100 - 97s - loss: 0.3363 - acc: 0.8475 - val_loss: 0.2548 - val_acc: 0.8980\n",
      "Epoch 12/30\n",
      "100/100 - 96s - loss: 0.3279 - acc: 0.8610 - val_loss: 0.2555 - val_acc: 0.8950\n",
      "Epoch 13/30\n",
      "100/100 - 94s - loss: 0.3335 - acc: 0.8565 - val_loss: 0.2493 - val_acc: 0.8940\n",
      "Epoch 14/30\n",
      "100/100 - 94s - loss: 0.3227 - acc: 0.8540 - val_loss: 0.2472 - val_acc: 0.8950\n",
      "Epoch 15/30\n",
      "100/100 - 94s - loss: 0.3126 - acc: 0.8685 - val_loss: 0.2457 - val_acc: 0.8890\n",
      "Epoch 16/30\n",
      "100/100 - 96s - loss: 0.3201 - acc: 0.8585 - val_loss: 0.2514 - val_acc: 0.9020\n",
      "Epoch 17/30\n",
      "100/100 - 103s - loss: 0.3238 - acc: 0.8515 - val_loss: 0.2470 - val_acc: 0.8980\n",
      "Epoch 18/30\n",
      "100/100 - 96s - loss: 0.3089 - acc: 0.8665 - val_loss: 0.2425 - val_acc: 0.9040\n",
      "Epoch 19/30\n",
      "100/100 - 101s - loss: 0.3147 - acc: 0.8630 - val_loss: 0.2443 - val_acc: 0.9020\n",
      "Epoch 20/30\n",
      "100/100 - 86s - loss: 0.3041 - acc: 0.8700 - val_loss: 0.2418 - val_acc: 0.8980\n",
      "Epoch 21/30\n",
      "100/100 - 88s - loss: 0.2959 - acc: 0.8800 - val_loss: 0.2486 - val_acc: 0.9050\n",
      "Epoch 22/30\n",
      "100/100 - 88s - loss: 0.2918 - acc: 0.8775 - val_loss: 0.2431 - val_acc: 0.9010\n",
      "Epoch 23/30\n",
      "100/100 - 90s - loss: 0.2945 - acc: 0.8680 - val_loss: 0.2451 - val_acc: 0.9020\n",
      "Epoch 24/30\n",
      "100/100 - 87s - loss: 0.2902 - acc: 0.8775 - val_loss: 0.2381 - val_acc: 0.9020\n",
      "Epoch 25/30\n",
      "100/100 - 100s - loss: 0.2750 - acc: 0.8840 - val_loss: 0.2391 - val_acc: 0.9030\n",
      "Epoch 26/30\n",
      "100/100 - 95s - loss: 0.2889 - acc: 0.8750 - val_loss: 0.2439 - val_acc: 0.9020\n",
      "Epoch 27/30\n",
      "100/100 - 95s - loss: 0.2757 - acc: 0.8855 - val_loss: 0.2395 - val_acc: 0.9040\n",
      "Epoch 28/30\n",
      "100/100 - 93s - loss: 0.2701 - acc: 0.8875 - val_loss: 0.2512 - val_acc: 0.9000\n",
      "Epoch 29/30\n",
      "100/100 - 93s - loss: 0.3013 - acc: 0.8735 - val_loss: 0.2386 - val_acc: 0.9020\n",
      "Epoch 30/30\n",
      "100/100 - 99s - loss: 0.2908 - acc: 0.8735 - val_loss: 0.2372 - val_acc: 0.9000\n"
     ]
    }
   ],
   "source": [
    "from keras.preprocessing.image import ImageDataGenerator\n",
    "\n",
    "train_datagen = ImageDataGenerator(\n",
    "      rescale=1./255,\n",
    "      rotation_range=40,\n",
    "      width_shift_range=0.2,\n",
    "      height_shift_range=0.2,\n",
    "      shear_range=0.2,\n",
    "      zoom_range=0.2,\n",
    "      horizontal_flip=True,\n",
    "      fill_mode='nearest')\n",
    "\n",
    "# Note that the validation data should not be augmented!\n",
    "test_datagen = ImageDataGenerator(rescale=1./255)\n",
    "\n",
    "train_generator = train_datagen.flow_from_directory(\n",
    "        # This is the target directory\n",
    "        train_dir,\n",
    "        # All images will be resized to 150x150\n",
    "        target_size=(150, 150),\n",
    "        batch_size=20,\n",
    "        # Since we use binary_crossentropy loss, we need binary labels\n",
    "        class_mode='binary')\n",
    "\n",
    "validation_generator = test_datagen.flow_from_directory(\n",
    "        validation_dir,\n",
    "        target_size=(150, 150),\n",
    "        batch_size=20,\n",
    "        class_mode='binary')\n",
    "\n",
    "model.compile(loss='binary_crossentropy',\n",
    "              optimizer=optimizers.RMSprop(lr=2e-5),\n",
    "              metrics=['acc'])\n",
    "\n",
    "history = model.fit_generator(\n",
    "      train_generator,\n",
    "      steps_per_epoch=100,\n",
    "      epochs=30,\n",
    "      validation_data=validation_generator,\n",
    "      validation_steps=50,\n",
    "      verbose=2)"
   ]
  },
  {
   "cell_type": "code",
   "execution_count": 13,
   "metadata": {},
   "outputs": [],
   "source": [
    "model.save('cats_and_dogs_small_4.h5')"
   ]
  },
  {
   "cell_type": "code",
   "execution_count": 14,
   "metadata": {},
   "outputs": [
    {
     "data": {
      "image/png": "[encoded data removed]",
      "text/plain": [
       "<Figure size 432x288 with 1 Axes>"
      ]
     },
     "metadata": {
      "needs_background": "light"
     },
     "output_type": "display_data"
    },
    {
     "data": {
      "image/png": "[encoded data removed]",
      "text/plain": [
       "<Figure size 432x288 with 1 Axes>"
      ]
     },
     "metadata": {
      "needs_background": "light"
     },
     "output_type": "display_data"
    }
   ],
   "source": [
    "acc = history.history['acc']\n",
    "val_acc = history.history['val_acc']\n",
    "loss = history.history['loss']\n",
    "val_loss = history.history['val_loss']\n",
    "\n",
    "epochs = range(len(acc))\n",
    "\n",
    "plt.plot(epochs, acc, 'bo', label='Training acc')\n",
    "plt.plot(epochs, val_acc, 'b', label='Validation acc')\n",
    "plt.title('Training and validation accuracy')\n",
    "plt.legend()\n",
    "\n",
    "plt.figure()\n",
    "\n",
    "plt.plot(epochs, loss, 'bo', label='Training loss')\n",
    "plt.plot(epochs, val_loss, 'b', label='Validation loss')\n",
    "plt.title('Training and validation loss')\n",
    "plt.legend()\n",
    "\n",
    "plt.show()"
   ]
  },
  {
   "cell_type": "markdown",
   "metadata": {},
   "source": [
    "#### Exponential moving averages of quantities"
   ]
  },
  {
   "cell_type": "code",
   "execution_count": 15,
   "metadata": {},
   "outputs": [
    {
     "data": {
      "image/png": "[encoded data removed]",
      "text/plain": [
       "<Figure size 432x288 with 1 Axes>"
      ]
     },
     "metadata": {
      "needs_background": "light"
     },
     "output_type": "display_data"
    },
    {
     "data": {
      "image/png": "[encoded data removed]",
      "text/plain": [
       "<Figure size 432x288 with 1 Axes>"
      ]
     },
     "metadata": {
      "needs_background": "light"
     },
     "output_type": "display_data"
    }
   ],
   "source": [
    "def smooth_curve(points, factor=0.8):\n",
    "  smoothed_points = []\n",
    "  for point in points:\n",
    "    if smoothed_points:\n",
    "      previous = smoothed_points[-1]\n",
    "      smoothed_points.append(previous * factor + point * (1 - factor))\n",
    "    else:\n",
    "      smoothed_points.append(point)\n",
    "  return smoothed_points\n",
    "\n",
    "plt.plot(epochs,\n",
    "         smooth_curve(acc), 'bo', label='Smoothed training acc')\n",
    "plt.plot(epochs,\n",
    "         smooth_curve(val_acc), 'b', label='Smoothed validation acc')\n",
    "plt.title('Training and validation accuracy')\n",
    "plt.legend()\n",
    "\n",
    "plt.figure()\n",
    "\n",
    "plt.plot(epochs,\n",
    "         smooth_curve(loss), 'bo', label='Smoothed training loss')\n",
    "plt.plot(epochs,\n",
    "         smooth_curve(val_loss), 'b', label='Smoothed validation loss')\n",
    "plt.title('Training and validation loss')\n",
    "plt.legend()\n",
    "\n",
    "plt.show()"
   ]
  },
  {
   "cell_type": "code",
   "execution_count": null,
   "metadata": {},
   "outputs": [],
   "source": []
  }
 ],
 "metadata": {
  "kernelspec": {
   "display_name": "tensorflow_keras",
   "language": "python",
   "name": "tensorflow_keras"
  },
  "language_info": {
   "codemirror_mode": {
    "name": "ipython",
    "version": 3
   },
   "file_extension": ".py",
   "mimetype": "text/x-python",
   "name": "python",
   "nbconvert_exporter": "python",
   "pygments_lexer": "ipython3",
   "version": "3.7.7"
  }
 },
 "nbformat": 4,
 "nbformat_minor": 4
}
